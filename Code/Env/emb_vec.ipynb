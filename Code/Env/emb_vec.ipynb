{
 "cells": [
  {
   "cell_type": "code",
   "execution_count": 2,
   "metadata": {},
   "outputs": [],
   "source": [
    "import gensim.downloader as api\n",
    "\n",
    "wv = api.load(\"word2vec-google-news-300\")"
   ]
  },
  {
   "cell_type": "code",
   "execution_count": 3,
   "metadata": {},
   "outputs": [
    {
     "data": {
      "text/plain": [
       "0.40982714"
      ]
     },
     "execution_count": 3,
     "metadata": {},
     "output_type": "execute_result"
    }
   ],
   "source": [
    "wv.similarity(w1=\"great\", w2=\"well\")"
   ]
  },
  {
   "cell_type": "code",
   "execution_count": 14,
   "metadata": {},
   "outputs": [
    {
     "data": {
      "text/plain": [
       "[('Alternate', 0.646791934967041),\n",
       " ('alternative', 0.5336429476737976),\n",
       " ('alternates', 0.4899304509162903),\n",
       " ('alterative', 0.4565000832080841),\n",
       " ('alternating', 0.45164331793785095),\n",
       " ('constantly_tinkers', 0.398860365152359),\n",
       " ('Dibakar_Misra', 0.3972477912902832),\n",
       " ('different', 0.392822802066803),\n",
       " ('ANIMAL_SIGNS_#:##', 0.39088350534439087),\n",
       " ('e_mail_Wikicong', 0.38105660676956177)]"
      ]
     },
     "execution_count": 14,
     "metadata": {},
     "output_type": "execute_result"
    }
   ],
   "source": [
    "wv.most_similar(\"alternate\")"
   ]
  },
  {
   "cell_type": "code",
   "execution_count": 16,
   "metadata": {},
   "outputs": [],
   "source": [
    "with open(\"/Users/michaeltsai/Documents/GitHub/Monoalphabetic-Substitution-Solution/dictionary.txt\", \"r\") as new_file:\n",
    "    words = new_file.read()\n",
    "    words = words.split('\\n')\n",
    "    com_words = []\n",
    "    for word in words: \n",
    "        try:\n",
    "            com_words.append(wv.most_similar(word))\n",
    "        except KeyError:\n",
    "            continue\n",
    "\n",
    "with open(\"/Users/michaeltsai/Documents/GitHub/Monoalphabetic-Substitution-Solution/com_word_dic.txt\", 'w') as new_file:\n",
    "    common_words = \"\"\n",
    "    for word in com_words:\n",
    "        common_words += word\n",
    "        common_words += '\\n'\n",
    "    new_file.write(common_words)"
   ]
  }
 ],
 "metadata": {
  "kernelspec": {
   "display_name": "Python 3.9.12 ('base')",
   "language": "python",
   "name": "python3"
  },
  "language_info": {
   "codemirror_mode": {
    "name": "ipython",
    "version": 3
   },
   "file_extension": ".py",
   "mimetype": "text/x-python",
   "name": "python",
   "nbconvert_exporter": "python",
   "pygments_lexer": "ipython3",
   "version": "3.9.12"
  },
  "orig_nbformat": 4,
  "vscode": {
   "interpreter": {
    "hash": "3d597f4c481aa0f25dceb95d2a0067e73c0966dcbd003d741d821a7208527ecf"
   }
  }
 },
 "nbformat": 4,
 "nbformat_minor": 2
}
